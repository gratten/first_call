{
 "cells": [
  {
   "cell_type": "code",
   "execution_count": 72,
   "metadata": {},
   "outputs": [],
   "source": [
    "import imaplib, email"
   ]
  },
  {
   "cell_type": "code",
   "execution_count": 73,
   "metadata": {},
   "outputs": [],
   "source": [
    "user = 'gratten.python@gmail.com'\n",
    "pw = 'pythonpass'\n",
    "imap_url = 'imap.gmail.com'"
   ]
  },
  {
   "cell_type": "code",
   "execution_count": 74,
   "metadata": {},
   "outputs": [],
   "source": [
    "def search(key, value, con):\n",
    "    result, data = con.search(None, key, '\"{}\"'.format(value))\n",
    "    return data"
   ]
  },
  {
   "cell_type": "code",
   "execution_count": 75,
   "metadata": {},
   "outputs": [],
   "source": [
    "def get_emails(result_bytes):\n",
    "    msgs = []\n",
    "    for num in result_bytes[0].split():\n",
    "        typ, data = con.fetch(num, '(RFC822)')\n",
    "        msgs.append(data)\n",
    "        \n",
    "    return msgs"
   ]
  },
  {
   "cell_type": "code",
   "execution_count": 76,
   "metadata": {},
   "outputs": [],
   "source": [
    "con = imaplib.IMAP4_SSL(imap_url)"
   ]
  },
  {
   "cell_type": "code",
   "execution_count": 77,
   "metadata": {},
   "outputs": [
    {
     "data": {
      "text/plain": [
       "('OK', [b'gratten.python@gmail.com authenticated (Success)'])"
      ]
     },
     "execution_count": 77,
     "metadata": {},
     "output_type": "execute_result"
    }
   ],
   "source": [
    "con.login(user, pw)"
   ]
  },
  {
   "cell_type": "code",
   "execution_count": 78,
   "metadata": {},
   "outputs": [
    {
     "data": {
      "text/plain": [
       "('OK', [b'14'])"
      ]
     },
     "execution_count": 78,
     "metadata": {},
     "output_type": "execute_result"
    }
   ],
   "source": [
    "con.select('Inbox')"
   ]
  },
  {
   "cell_type": "code",
   "execution_count": 79,
   "metadata": {},
   "outputs": [],
   "source": [
    "msgs = get_emails(search('FROM', 'NoReply@autopower.com', con))"
   ]
  },
  {
   "cell_type": "code",
   "execution_count": 80,
   "metadata": {},
   "outputs": [],
   "source": [
    "for msg in msgs[::-1]:  \n",
    "    for sent in msg: \n",
    "        if type(sent) is tuple:  \n",
    "  \n",
    "            # encoding set as utf-8 \n",
    "            content = str(sent[1], 'utf-8')  \n",
    "            data = str(content) \n",
    "  \n",
    "            # Handling errors related to unicodenecode \n",
    "            try:  \n",
    "                indexstart = data.find(\"ltr\") \n",
    "                data2 = data[indexstart + 5: len(data)] \n",
    "                indexend = data2.find(\"</div>\") \n",
    "  \n",
    "                # printtng the required content which we need \n",
    "                # to extract from our email i.e our body \n",
    "                print(data2[0: indexend]) \n",
    "  \n",
    "            except UnicodeEncodeError as e: \n",
    "                pass"
   ]
  }
 ],
 "metadata": {
  "kernelspec": {
   "display_name": "Python 3",
   "language": "python",
   "name": "python3"
  },
  "language_info": {
   "codemirror_mode": {
    "name": "ipython",
    "version": 3
   },
   "file_extension": ".py",
   "mimetype": "text/x-python",
   "name": "python",
   "nbconvert_exporter": "python",
   "pygments_lexer": "ipython3",
   "version": "3.7.7"
  }
 },
 "nbformat": 4,
 "nbformat_minor": 4
}
